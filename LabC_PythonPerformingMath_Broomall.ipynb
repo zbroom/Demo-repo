{
  "cells": [
    {
      "cell_type": "markdown",
      "metadata": {
        "id": "4mnqodJJT0AK"
      },
      "source": [
        "### *“The travel industry is made up of a myriad supplier data feeds...*\n",
        "\n",
        "### *Python repeatedly has allowed us to access, build and test our in-house communications with hundreds of travel suppliers around the world in a matter of days rather then the months it would have taken using other languages.*\n",
        "\n",
        "### *Since adopting Python two years ago, Python has provided us with a measurable productivity gain that allows us to stay competitive in the online travel space.”* \n",
        "\n",
        "*–Michael Engelhart, CTO of EZTrip.com (2021)*\n",
        "\n",
        "Python is used in EVERY industry!  Even knowing a little can you learn A LOT!\n",
        "\n",
        "---"
      ]
    },
    {
      "cell_type": "markdown",
      "metadata": {
        "id": "X5WNKbkTT0AP"
      },
      "source": [
        "# Your Name: ZACH BROOMALL"
      ]
    },
    {
      "cell_type": "markdown",
      "metadata": {
        "id": "lcsAFbHcT0AP"
      },
      "source": [
        "# Lab C: Arithmetic and Basic Math in Python\n"
      ]
    },
    {
      "cell_type": "markdown",
      "metadata": {
        "id": "a9eB2UIGT0AQ"
      },
      "source": [
        "The goal of this lab is to get you familiar with the performing basic math in Programming.  Read the lab very carefully, taking care to perform each task as indicated in the code blocks.\n",
        "\n",
        "Parts of this lab were adapted from an IBM course (\"Python for Data Science\") on the Cognitive Class website. Thank you to the original author <a href=\"https://www.linkedin.com/in/joseph-s-50398b136/\" target=\"_blank\">Joseph Santarcangelo</a> who is a Data Scientist at IBM for creating the initial lab. "
      ]
    },
    {
      "cell_type": "markdown",
      "metadata": {
        "id": "77ky8Y_JT0AQ"
      },
      "source": [
        "<hr>"
      ]
    },
    {
      "cell_type": "markdown",
      "metadata": {
        "id": "mALvjeFqT0AQ"
      },
      "source": [
        "## 1. Parentheses Matter!"
      ]
    },
    {
      "cell_type": "markdown",
      "metadata": {
        "id": "DUbWMrfwT0AR"
      },
      "source": [
        "Just like in math class, expressions enclosed in parentheses have priority. \n",
        "\n",
        "So the PEMDAS (\"Please excuse my dear Aunt Sally\") rules apply.</p>"
      ]
    },
    {
      "cell_type": "code",
      "execution_count": 1,
      "metadata": {
        "colab": {
          "base_uri": "https://localhost:8080/"
        },
        "id": "GMWj6SjtT0AR",
        "outputId": "d0766e63-5ecb-46f1-cab8-694b2c9226b5"
      },
      "outputs": [
        {
          "output_type": "stream",
          "name": "stdout",
          "text": [
            "42\n",
            "17\n"
          ]
        }
      ],
      "source": [
        "#Guess at the values of x and y below and then run the cell to checl (Shift+Enter)\n",
        "\n",
        "x = (5 + 2) * 6\n",
        "print(x)\n",
        "\n",
        "y = 5 + 2 * 6\n",
        "print(y)"
      ]
    },
    {
      "cell_type": "markdown",
      "metadata": {
        "id": "Dit-K-7aT0AT"
      },
      "source": [
        "<hr>"
      ]
    },
    {
      "cell_type": "markdown",
      "metadata": {
        "id": "aQQ0ADaVT0AU"
      },
      "source": [
        "<h2 id=\"expressions\">2. Integer Division</h2>"
      ]
    },
    {
      "cell_type": "markdown",
      "metadata": {
        "id": "MzMofnDmT0AU"
      },
      "source": [
        "Remember that ONE SLASH means divide.\n",
        "\n"
      ]
    },
    {
      "cell_type": "code",
      "execution_count": 2,
      "metadata": {
        "colab": {
          "base_uri": "https://localhost:8080/"
        },
        "id": "BX_JFKXJT0AU",
        "outputId": "25abdd23-a5aa-4871-e3e8-3f87fb6db793"
      },
      "outputs": [
        {
          "output_type": "stream",
          "name": "stdout",
          "text": [
            "6.0\n",
            "4.166666666666667\n"
          ]
        }
      ],
      "source": [
        "# Division operation expression \n",
        "# Guess what the cell below will print out.  Then run it to check your guess. (Shift+Enter)\n",
        "\n",
        "print(18 / 3)\n",
        "print(25 / 6)"
      ]
    },
    {
      "cell_type": "markdown",
      "metadata": {
        "id": "lTWjthxjT0AV"
      },
      "source": [
        "<p>We can use the double slash for integer division, where the result truncates/drops the decimal portion of the number, like in the examples below."
      ]
    },
    {
      "cell_type": "code",
      "execution_count": 3,
      "metadata": {
        "colab": {
          "base_uri": "https://localhost:8080/"
        },
        "id": "iWQITu7wT0AV",
        "outputId": "6bbd5622-a92c-477b-df16-347400c301db"
      },
      "outputs": [
        {
          "output_type": "execute_result",
          "data": {
            "text/plain": [
              "3"
            ]
          },
          "metadata": {},
          "execution_count": 3
        }
      ],
      "source": [
        "# Integer division operation expression:  Run this cell to see what is printed out!  Do you understand why?\n",
        "\n",
        "13 // 4    #This computes how many times 4 goes evenly into 13.  So the remainder is dropped!"
      ]
    },
    {
      "cell_type": "code",
      "execution_count": 4,
      "metadata": {
        "colab": {
          "base_uri": "https://localhost:8080/"
        },
        "id": "ap0aFXSfT0AW",
        "outputId": "7ee83bd4-f6c6-4c9c-c453-4b8bc8144639"
      },
      "outputs": [
        {
          "output_type": "execute_result",
          "data": {
            "text/plain": [
              "2"
            ]
          },
          "metadata": {},
          "execution_count": 4
        }
      ],
      "source": [
        "# Integer division operation expression:  Run this cell to see what is printed out!\n",
        "\n",
        "10 // 5    #This computes how many times 5 goes evenly into 10"
      ]
    },
    {
      "cell_type": "markdown",
      "metadata": {
        "id": "t4QzMfVaT0AX"
      },
      "source": [
        "Let's get some practice.  Guess what will be printed below."
      ]
    },
    {
      "cell_type": "code",
      "execution_count": 5,
      "metadata": {
        "colab": {
          "base_uri": "https://localhost:8080/"
        },
        "id": "e4535UfvT0AX",
        "outputId": "b74ef1dc-1c83-459e-c80d-2bc304372896"
      },
      "outputs": [
        {
          "output_type": "stream",
          "name": "stdout",
          "text": [
            "2\n",
            "2.5\n"
          ]
        }
      ],
      "source": [
        "#Guess at what is printed out!  Then run and check!\n",
        "x =  5 // 2 \n",
        "y =  5 /  2\n",
        "print(x)  \n",
        "print(y)"
      ]
    },
    {
      "cell_type": "code",
      "execution_count": 6,
      "metadata": {
        "colab": {
          "base_uri": "https://localhost:8080/"
        },
        "id": "IMkzCJ0UT0AY",
        "outputId": "75324c33-bdef-477a-f074-b8cb37fb3541"
      },
      "outputs": [
        {
          "output_type": "stream",
          "name": "stdout",
          "text": [
            "10\n",
            "10.0\n"
          ]
        }
      ],
      "source": [
        "#Guess at what is printed out!  Then run and check!\n",
        "x =  20 // 2 \n",
        "y =  20 /  2\n",
        "print(x)  #Is x an integer or a float?\n",
        "print(y)  #Is y an integer or a float?\n"
      ]
    },
    {
      "cell_type": "code",
      "execution_count": 7,
      "metadata": {
        "colab": {
          "base_uri": "https://localhost:8080/"
        },
        "id": "zrCgWxhuT0AY",
        "outputId": "deaa6767-4921-4a3a-deec-befbc95b24bf"
      },
      "outputs": [
        {
          "output_type": "stream",
          "name": "stdout",
          "text": [
            "0.2\n",
            "0\n"
          ]
        }
      ],
      "source": [
        "#Guess at what is printed out!  Then run and check!\n",
        "x =  2 / 10 \n",
        "y =  2 //  10\n",
        "\n",
        "print(x)  \n",
        "print(y)"
      ]
    },
    {
      "cell_type": "code",
      "execution_count": 8,
      "metadata": {
        "colab": {
          "base_uri": "https://localhost:8080/"
        },
        "id": "EGZIRkXiT0AZ",
        "outputId": "328e34a1-7385-4af5-adf0-dc9c7c4b6136"
      },
      "outputs": [
        {
          "output_type": "stream",
          "name": "stdout",
          "text": [
            "1.3333333333333333\n",
            "1\n"
          ]
        }
      ],
      "source": [
        "#Guess at what is printed out!  Then run and check!\n",
        "x =  4 / 3 \n",
        "y =  4 //  3\n",
        "\n",
        "print(x)  \n",
        "print(y)"
      ]
    },
    {
      "cell_type": "markdown",
      "metadata": {
        "id": "Yweha5LiT0AZ"
      },
      "source": [
        "---\n",
        "## **Question 2. (Regular Division vs. Integer Division.)!!!!!!!!!!!!!!!!!!!** \n",
        "\n"
      ]
    },
    {
      "cell_type": "markdown",
      "metadata": {
        "id": "wFV-Zk0vT0AZ"
      },
      "source": [
        "<p>Let's write an expression that calculates how many nickels we would need to make 38 cents.</p>"
      ]
    },
    {
      "cell_type": "code",
      "execution_count": 10,
      "metadata": {
        "colab": {
          "base_uri": "https://localhost:8080/"
        },
        "id": "z89uKKcgT0Aa",
        "outputId": "df2e9490-8ae1-40f8-8393-847abba30cb4"
      },
      "outputs": [
        {
          "output_type": "stream",
          "name": "stdout",
          "text": [
            "7\n"
          ]
        }
      ],
      "source": [
        "# Write your code below. Don't forget to press Shift+Enter to execute the cell\n",
        "x = 38 // 5\n",
        "\n",
        "print(x)"
      ]
    },
    {
      "cell_type": "markdown",
      "metadata": {
        "id": "J9I4OzXwT0Aa"
      },
      "source": [
        "Double-click __here__ for the solution.\n",
        "\n",
        "<!-- Your answer is below:\n",
        "38 // 5\n",
        "-->"
      ]
    },
    {
      "cell_type": "markdown",
      "metadata": {
        "id": "7bIHI9eKT0Aa"
      },
      "source": [
        "<p>John has 3 slices of a pizza pie that was cut into 8 equal slices. Print what percentage of the pie John has.</p>"
      ]
    },
    {
      "cell_type": "code",
      "execution_count": 13,
      "metadata": {
        "colab": {
          "base_uri": "https://localhost:8080/"
        },
        "id": "fyhpZ7YET0Ab",
        "outputId": "55ce2825-e08e-4cef-b942-10d8e3062e97"
      },
      "outputs": [
        {
          "output_type": "stream",
          "name": "stdout",
          "text": [
            "37.5%\n"
          ]
        }
      ],
      "source": [
        "# Write your code below. Don't forget to press Shift+Enter to execute the cell\n",
        "slices = (3 / 8) * 100\n",
        "\n",
        "#Print the percentage here.\n",
        "print(str(slices) + \"%\")"
      ]
    },
    {
      "cell_type": "markdown",
      "metadata": {
        "id": "8FmQoy1wT0Ab"
      },
      "source": [
        "Double-click __here__ for the solution.\n",
        "\n",
        "<!-- Your answer is below:\n",
        "percentage = (3 / 8) * 100\n",
        "\n",
        "print(str(percentage) + \"%\")\n",
        "-->"
      ]
    },
    {
      "cell_type": "markdown",
      "metadata": {
        "id": "qjQTEu3YT0Ac"
      },
      "source": [
        "<hr/>"
      ]
    },
    {
      "cell_type": "markdown",
      "metadata": {
        "id": "UCM8LN_6T0Ac"
      },
      "source": [
        "## 3. Modulus\n",
        "\n",
        "When using integer division, we often want to know about remainders.\n",
        "\n",
        "So for example  ``17 // 4`` is 4 because 4 divides 17 with a remainder of 1.  So we say ``17 mod 4`` is 1.  \n",
        "\n",
        "Oftentimes programming languages use the percent sign for the modulus symbol (``%``).  \n",
        "\n",
        "Here are some examples:\n",
        "\n",
        "* ``28 % 5 = 3`` since 5 leaves a remainder of 3 when dividing 28\n",
        "* ``24 % 11 = 2`` since 11 leaves a remainder of 2 when dividing 24\n",
        "* ``18 % 6 = 0`` since 6 leaves no remainder when dividing 18"
      ]
    },
    {
      "cell_type": "code",
      "execution_count": 14,
      "metadata": {
        "colab": {
          "base_uri": "https://localhost:8080/"
        },
        "id": "dcKiXTfVT0Ac",
        "outputId": "93f92b83-6d32-4f25-ad19-90052b3bd1e6"
      },
      "outputs": [
        {
          "output_type": "execute_result",
          "data": {
            "text/plain": [
              "3"
            ]
          },
          "metadata": {},
          "execution_count": 14
        }
      ],
      "source": [
        "#Guess at what is printed out!  Then run and check!\n",
        "x = 28 % 5\n",
        "x"
      ]
    },
    {
      "cell_type": "code",
      "execution_count": 15,
      "metadata": {
        "colab": {
          "base_uri": "https://localhost:8080/"
        },
        "id": "WKkM6wMFT0Ad",
        "outputId": "c89626e5-be92-4963-b882-084be9e34593"
      },
      "outputs": [
        {
          "output_type": "execute_result",
          "data": {
            "text/plain": [
              "1"
            ]
          },
          "metadata": {},
          "execution_count": 15
        }
      ],
      "source": [
        "#Guess at what is printed out!  Then run and check!\n",
        "x = 36 % 5\n",
        "x"
      ]
    },
    {
      "cell_type": "markdown",
      "metadata": {
        "id": "zOTqwTVNT0Ad"
      },
      "source": [
        "---\n",
        "## **Question 3. (Getting Used to Modulus)!!!!!!!!!!!!!!!!!!!** \n",
        "\n"
      ]
    },
    {
      "cell_type": "markdown",
      "metadata": {
        "id": "dBvaA--1T0Ae"
      },
      "source": [
        "You pay a bill of $4.93 using as many quarters as possibles.  Also, you only use quarters and pennies.  How many quarters and pennies do you use?\n",
        "\n",
        "Use the new things you learned in this lab to decide."
      ]
    },
    {
      "cell_type": "code",
      "execution_count": 17,
      "metadata": {
        "colab": {
          "base_uri": "https://localhost:8080/"
        },
        "id": "plfg_RfiT0Af",
        "outputId": "25673179-ce0b-4b36-8564-3d0592f0b25a"
      },
      "outputs": [
        {
          "output_type": "execute_result",
          "data": {
            "text/plain": [
              "(19, 18)"
            ]
          },
          "metadata": {},
          "execution_count": 17
        }
      ],
      "source": [
        "# Write your code below. Don't forget to press Shift+Enter to execute the cell\n",
        "\n",
        "quarters = 493 // 25\n",
        "pennies = 493 % 25  \n",
        "quarters, pennies"
      ]
    },
    {
      "cell_type": "markdown",
      "metadata": {
        "id": "NYX5tu0UT0Ag"
      },
      "source": [
        "Double-click __here__ for the solution.\n",
        "\n",
        "<!-- Your answer is below:\n",
        "\n",
        "quarters = 493 // 25\n",
        "pennies = 493 % 25  #We essentially want the remainder of 493 cents when dividing by 25. \n",
        "\n",
        "-->"
      ]
    },
    {
      "cell_type": "markdown",
      "metadata": {
        "id": "mSiKBuZ9T0Ah"
      },
      "source": [
        "---\n",
        "\n",
        "## 4. Exponents \n",
        "\n",
        "How do we take exponents in Python?  For example, you know that the volume of a cube with a side length of $s$ is $ V = s^3 $. Let's look at the following example."
      ]
    },
    {
      "cell_type": "code",
      "execution_count": 18,
      "metadata": {
        "colab": {
          "base_uri": "https://localhost:8080/"
        },
        "id": "Pm_Zl26hT0Ai",
        "outputId": "56708f52-8cca-43b6-a5aa-ddd1d9bef4e1"
      },
      "outputs": [
        {
          "output_type": "stream",
          "name": "stdout",
          "text": [
            "125\n"
          ]
        }
      ],
      "source": [
        "#Say the side length is 5\n",
        "s = 5\n",
        "\n",
        "#Then the volume is:\n",
        "volume = s * s * s\n",
        "print(volume)"
      ]
    },
    {
      "cell_type": "markdown",
      "metadata": {
        "id": "9Pbw0NGPT0Ai"
      },
      "source": [
        "Another way to raise values to a power is to use ```**```.  In other words:\n",
        "\n",
        "$$x**y\\,\\,\\, = \\,\\,\\, x^y$$  \n",
        "\n",
        "Here are some examples."
      ]
    },
    {
      "cell_type": "code",
      "execution_count": 19,
      "metadata": {
        "colab": {
          "base_uri": "https://localhost:8080/"
        },
        "id": "2WYyjeq-T0Aj",
        "outputId": "4665b8ba-b28f-40bf-e77d-bd361b76e720"
      },
      "outputs": [
        {
          "output_type": "execute_result",
          "data": {
            "text/plain": [
              "8"
            ]
          },
          "metadata": {},
          "execution_count": 19
        }
      ],
      "source": [
        "#Take a guess at the value below and then run the cell to check!\n",
        "\n",
        "2**3  #Raises 2 to the 3rd power"
      ]
    },
    {
      "cell_type": "code",
      "execution_count": 20,
      "metadata": {
        "colab": {
          "base_uri": "https://localhost:8080/"
        },
        "id": "w9AN6_JGT0Aj",
        "outputId": "a7ce7dbb-8291-41a6-9215-dd142e84b876"
      },
      "outputs": [
        {
          "output_type": "execute_result",
          "data": {
            "text/plain": [
              "9"
            ]
          },
          "metadata": {},
          "execution_count": 20
        }
      ],
      "source": [
        "#Take a guess at the value below and then run the cell to check!\n",
        "3**2"
      ]
    },
    {
      "cell_type": "code",
      "execution_count": 21,
      "metadata": {
        "colab": {
          "base_uri": "https://localhost:8080/"
        },
        "id": "mmIDOWnbT0Aj",
        "outputId": "535cee6a-fd93-4fca-91d2-97cf0695b2db"
      },
      "outputs": [
        {
          "output_type": "execute_result",
          "data": {
            "text/plain": [
              "64"
            ]
          },
          "metadata": {},
          "execution_count": 21
        }
      ],
      "source": [
        "#Take a guess at the value below and then run the cell to check!\n",
        "4**3"
      ]
    },
    {
      "cell_type": "code",
      "execution_count": 22,
      "metadata": {
        "colab": {
          "base_uri": "https://localhost:8080/"
        },
        "id": "jxoV6lJMT0Ak",
        "outputId": "8b037359-aefe-4c7b-9556-4cef4ea796d4"
      },
      "outputs": [
        {
          "output_type": "execute_result",
          "data": {
            "text/plain": [
              "3.375"
            ]
          },
          "metadata": {},
          "execution_count": 22
        }
      ],
      "source": [
        "#Take a guess at the value below and then run the cell to check!\n",
        "1.5**3"
      ]
    },
    {
      "cell_type": "markdown",
      "metadata": {
        "id": "KOkLNT9aT0Ak"
      },
      "source": [
        "Remember that taking squareroot is the same thing as raising to the 1/2 power. \n",
        "\n",
        "So $\\sqrt{x}=x^{1/2}$.\n",
        "\n",
        "This means that we can use double asteriks to compute square roots.  Let's try it!"
      ]
    },
    {
      "cell_type": "code",
      "execution_count": 23,
      "metadata": {
        "colab": {
          "base_uri": "https://localhost:8080/"
        },
        "id": "x2TeOn8JT0Al",
        "outputId": "c5d9eb3d-8158-431f-e6f5-e4a484592997"
      },
      "outputs": [
        {
          "output_type": "execute_result",
          "data": {
            "text/plain": [
              "8.0"
            ]
          },
          "metadata": {},
          "execution_count": 23
        }
      ],
      "source": [
        "#Take a guess at the value below and then run the cell to check!\n",
        "64**0.5"
      ]
    },
    {
      "cell_type": "code",
      "execution_count": 24,
      "metadata": {
        "colab": {
          "base_uri": "https://localhost:8080/"
        },
        "id": "ZXVtF8luT0Al",
        "outputId": "0602b762-1034-48fe-9a50-3834c6456423"
      },
      "outputs": [
        {
          "output_type": "execute_result",
          "data": {
            "text/plain": [
              "5.0"
            ]
          },
          "metadata": {},
          "execution_count": 24
        }
      ],
      "source": [
        "#Take a guess at the value below and then run the cell to check!\n",
        "25**0.5"
      ]
    },
    {
      "cell_type": "markdown",
      "metadata": {
        "id": "IICfMXaoT0Am"
      },
      "source": [
        "---\n",
        "\n",
        "## **Question 4A. (Exponents)!!!!!!!!!!!!!!!!!!!** \n",
        "\n",
        "Recall that below, we computed the volume of a cube.  \n",
        "\n",
        "Update this code so that it uses double asteriks to do the cubing."
      ]
    },
    {
      "cell_type": "code",
      "execution_count": 25,
      "metadata": {
        "colab": {
          "base_uri": "https://localhost:8080/"
        },
        "id": "jTjaOy6kT0Am",
        "outputId": "b9ede053-c477-4218-dc7f-d965b148798a"
      },
      "outputs": [
        {
          "output_type": "stream",
          "name": "stdout",
          "text": [
            "1000\n"
          ]
        }
      ],
      "source": [
        "#Say the side length is 5\n",
        "s = 10\n",
        "\n",
        "#Then the volume is:\n",
        "volume = s ** 3\n",
        "print(volume)"
      ]
    },
    {
      "cell_type": "markdown",
      "metadata": {
        "id": "wm5_3ThhT0An"
      },
      "source": [
        "Double-click __here__ for the solution.\n",
        "\n",
        "<!-- \n",
        "volume = s ** 3\n",
        "-->"
      ]
    },
    {
      "cell_type": "markdown",
      "metadata": {
        "id": "4ZorOJ-fT0An"
      },
      "source": [
        "---\n",
        "\n",
        "## **Question 4B. (Square Roots)!!!!!!!!!!!!!!!!!!!** \n",
        "\n",
        "You make remember the quadratic formula, which says that the equation $ax^2+bx+c=0$ has the following solution.  \n",
        "\n",
        "$$x=\\frac{-b\\pm\\sqrt{b^2-4ac}}{2a}$$\n",
        "\n",
        "Write code below so that you find the solution to the equation $2x^2-11x+5=0$.  \n",
        "\n",
        "So in this example, $a=2, b=-11$, and $c = 5$."
      ]
    },
    {
      "cell_type": "code",
      "execution_count": 29,
      "metadata": {
        "colab": {
          "base_uri": "https://localhost:8080/"
        },
        "id": "aZsW0gYKT0An",
        "outputId": "c0b983b9-b898-4958-fa9c-2d0280dbafba"
      },
      "outputs": [
        {
          "output_type": "stream",
          "name": "stdout",
          "text": [
            "5.0 0\n"
          ]
        }
      ],
      "source": [
        "#Set up our variables.\n",
        "a = 2\n",
        "b = -11\n",
        "c = 5\n",
        "x = 5\n",
        "#x1 and x2 are set to 0.  Instead, set x1 and x2 equal to the output of the quadratic equation.\n",
        "#Hint:  Let x1 be equal to the solution when you use the + in the quadratic formula\n",
        "#       Let x2 be equal to the solution when you use the - in the quadratic formula\n",
        "#       Know that to code up -b you need to do -1 * b\n",
        "\n",
        "x1 = (-1 * b + (b**2 - 4*a*c) ** 0.5) / (2*a)\n",
        "x2 = (2 * (x ** 2) - (11 * x) + 5)\n",
        "\n",
        "#Print out the resutls\n",
        "print(x1, x2)"
      ]
    },
    {
      "cell_type": "markdown",
      "metadata": {
        "id": "Wc3LdFILT0Ao"
      },
      "source": [
        "Double-click __here__ for the solution.\n",
        "\n",
        "<!-- \n",
        "x1 = (-1 * b + (b**2 - 4*a*c) ** 0.5) / (2*a)\n",
        "x2 = ????? \n",
        "-->"
      ]
    },
    {
      "cell_type": "markdown",
      "metadata": {
        "id": "gL0IRp7aT0Ao"
      },
      "source": [
        "<hr>"
      ]
    },
    {
      "cell_type": "markdown",
      "metadata": {
        "id": "3sKHq7q6T0Ao"
      },
      "source": [
        "Okay!  You're done Lab C!  Submit this!   Your file should be called LabC_PythonMath_YourInitials.ipynb "
      ]
    }
  ],
  "metadata": {
    "kernelspec": {
      "display_name": "Python 3",
      "language": "python",
      "name": "python3"
    },
    "language_info": {
      "codemirror_mode": {
        "name": "ipython",
        "version": 3
      },
      "file_extension": ".py",
      "mimetype": "text/x-python",
      "name": "python",
      "nbconvert_exporter": "python",
      "pygments_lexer": "ipython3",
      "version": "3.7.9"
    },
    "colab": {
      "provenance": []
    }
  },
  "nbformat": 4,
  "nbformat_minor": 0
}